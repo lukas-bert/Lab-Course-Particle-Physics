{
 "cells": [
  {
   "cell_type": "code",
   "execution_count": 98,
   "id": "8118a10b",
   "metadata": {},
   "outputs": [],
   "source": [
    "import matplotlib.pyplot as plt\n",
    "import numpy as np\n",
    "import scipy.optimize as op\n",
    "import uncertainties.unumpy as unp\n",
    "from uncertainties import ufloat\n",
    "import scipy.constants as const\n",
    "from uncertainties.unumpy import nominal_values as noms\n",
    "from uncertainties.unumpy import std_devs as stds\n",
    "import pandas as pd"
   ]
  },
  {
   "cell_type": "code",
   "execution_count": 99,
   "id": "be6138be",
   "metadata": {},
   "outputs": [
    {
     "name": "stdout",
     "output_type": "stream",
     "text": [
      "         y_exit    z_exit      x_start   y_start   z_start  px_start  \\\n",
      "index                                                                  \n",
      "0     -0.026978 -0.061619  2400.019897 -0.051878  0.096635  0.948434   \n",
      "1     -0.055254  0.050902  2400.000732  0.085666  0.015889  0.977825   \n",
      "2      0.049212  0.065583  2399.990967  0.006511 -0.025208  0.917937   \n",
      "3     -0.018177 -0.106197  2400.062012 -0.043234 -0.098842  0.885576   \n",
      "4      0.050591  0.043467  2400.000977 -0.004035 -0.069628  0.971248   \n",
      "\n",
      "       py_start  pz_start  reflCoCl  reflClCl          wl  gpsPosX  \\\n",
      "index                                                                \n",
      "0      0.162628 -0.272077    3649.0       0.0  472.743103   2400.0   \n",
      "1     -0.139056 -0.156593    2674.0       0.0  504.521210   2400.0   \n",
      "2     -0.225034  0.326729       0.0    3894.0  442.621185   2400.0   \n",
      "3      0.074564 -0.458470       0.0    5517.0  484.213989   2400.0   \n",
      "4     -0.103995 -0.214154    2757.0       0.0  489.916565   2400.0   \n",
      "\n",
      "       length_core  length_clad  rayleighScatterings  job_nr    r_exit  \n",
      "index                                                                   \n",
      "0      2530.557861     0.000000                  0.0       0  0.067266  \n",
      "1      2454.456055     0.000000                  0.0       0  0.075127  \n",
      "2      2204.132568   381.522583                  0.0       0  0.081994  \n",
      "3      2210.260498   466.030212                  0.0       0  0.107741  \n",
      "4      2470.986084     0.000000                  0.0       0  0.066699  \n"
     ]
    }
   ],
   "source": [
    "# reading data\n",
    "df_sim = pd.DataFrame()\n",
    "\n",
    "names = [\"y_exit\", \"z_exit\", \"x_start\", \"y_start\", \"z_start\", \"px_start\", \"py_start\", \"pz_start\", \"reflCoCl\", \"reflClCl\", \"wl\", \"gpsPosX\", \"length_core\", \"length_clad\", \"rayleighScatterings\"]\n",
    "\n",
    "for i in range(48): # 1200 files\n",
    "    frame = pd.read_csv(f\"content/data/Simulation/job_{i}.txt\", sep=\"\\s+\", comment = \"#\", names = names)\n",
    "    frame[\"job_nr\"] = i\n",
    "    df_sim = pd.concat([df_sim, frame])\n",
    "\n",
    "df_sim[\"index\"] = range(0, len(df_sim))# set new index\n",
    "df_sim.set_index(\"index\", inplace = True)\n",
    "\n",
    "df_sim[\"r_exit\"] = np.sqrt(df_sim[\"y_exit\"]**2 + df_sim[\"z_exit\"]**2)\n",
    "    \n",
    "print(df_sim.head())"
   ]
  },
  {
   "cell_type": "code",
   "execution_count": 100,
   "id": "3783d39d",
   "metadata": {},
   "outputs": [
    {
     "data": {
      "image/png": "[encoded data removed]",
      "text/plain": [
       "<Figure size 432x288 with 1 Axes>"
      ]
     },
     "metadata": {
      "needs_background": "light"
     },
     "output_type": "display_data"
    }
   ],
   "source": [
    "_, bins, _ = plt.hist(df_sim[\"r_exit\"], bins = 100, range = [0, 0.5], \n",
    "                      color = \"cornflowerblue\", \n",
    "                      label = \"Before cut\")\n",
    "\n",
    "df_sim = df_sim.drop(df_sim[df_sim.r_exit > 0.125].index)\n",
    "\n",
    "plt.hist(df_sim[\"r_exit\"], bins = bins, color = \"firebrick\", label = \"After cut\", histtype = \"step\", lw = 2);\n",
    "\n",
    "plt.xlabel(\"r [mm]\")\n",
    "plt.ylabel(\"Intensity [a.u.]\")\n",
    "plt.legend();\n",
    "plt.tight_layout();"
   ]
  },
  {
   "cell_type": "code",
   "execution_count": 101,
   "id": "f4004a3d",
   "metadata": {},
   "outputs": [
    {
     "name": "stdout",
     "output_type": "stream",
     "text": [
      "389652\n",
      "379465\n"
     ]
    }
   ],
   "source": [
    "print(len(df_sim))\n",
    "df_sim = df_sim.drop(df_sim[df_sim[\"rayleighScatterings\"] > 0].index)\n",
    "print(len(df_sim))"
   ]
  },
  {
   "cell_type": "code",
   "execution_count": 102,
   "id": "c06013a2",
   "metadata": {},
   "outputs": [],
   "source": [
    "df_sim[\"inCladding\"] = df_sim[\"r_exit\"] > 0.11\n",
    "df_sim[\"Theta\"] = np.arccos(df_sim[\"px_start\"])/np.pi*180"
   ]
  },
  {
   "cell_type": "code",
   "execution_count": 103,
   "id": "283aa30e",
   "metadata": {},
   "outputs": [
    {
     "data": {
      "image/png": "[encoded data removed]",
      "text/plain": [
       "<Figure size 432x288 with 1 Axes>"
      ]
     },
     "metadata": {
      "needs_background": "light"
     },
     "output_type": "display_data"
    }
   ],
   "source": [
    "counts, bins, _ = plt.hist(df_sim[\"Theta\"][df_sim[\"inCladding\"] == False], \n",
    "                           bins = 30, label = \"Kernphoton\", color = \"cornflowerblue\", edgecolor = \"royalblue\")\n",
    "_, bins, _ = plt.hist(df_sim[\"Theta\"][df_sim[\"inCladding\"] == True], \n",
    "                      bins = 30, label = \"Mantelphoton\", color = \"darkorange\", edgecolor = \"orangered\")\n",
    "plt.vlines(21.37, 0, 1.2*max(counts), color = \"red\", ls = \"dashed\", label = r\"$\\theta_{\\mathrm{max}1} = 21,37°$\");\n",
    "plt.vlines(38.68, 0, 1.2*max(counts), color = \"black\", ls = \"dashed\", label = r\"$\\theta_{\\mathrm{max}2} = 38.68°$\");\n",
    "plt.vlines(44.77, 0, 1.2*max(counts), color = \"green\", ls = \"dashed\", label = r\"$\\theta_{\\mathrm{max}3} = 44,77°$\");\n",
    "plt.xlabel(r\"$\\theta$ [°]\")\n",
    "plt.ylabel(\"Intensity [a.u.]\")\n",
    "plt.ylim(0, 1.2*max(counts))\n",
    "plt.xlim(0, 48)\n",
    "plt.legend(loc = \"upper left\");"
   ]
  },
  {
   "cell_type": "code",
   "execution_count": 104,
   "id": "a7681bfe",
   "metadata": {},
   "outputs": [
    {
     "data": {
      "text/plain": [
       "inCladding\n",
       "False    38.907093\n",
       "True     46.074345\n",
       "Name: Theta, dtype: float64"
      ]
     },
     "execution_count": 104,
     "metadata": {},
     "output_type": "execute_result"
    }
   ],
   "source": [
    "df_sim.groupby([\"inCladding\"])[\"Theta\"].max()"
   ]
  },
  {
   "cell_type": "code",
   "execution_count": 105,
   "id": "fc00a48b",
   "metadata": {},
   "outputs": [],
   "source": [
    "# Abstand zum Mittelpunkt (Abstand Gerade-Gerade)\n",
    "\n",
    "def distance_lineline(v1, v2, p1, p2): # v1, v2, p1, p2 should be numpy arrays\n",
    "    cross_prod = np.cross(v1, v2)\n",
    "    if np.all(cross_prod == 0):\n",
    "        return np.linalg.norm(p1 - p2)\n",
    "    n = cross_prod / np.linalg.norm(cross_prod)\n",
    "    return np.abs(np.dot(n, (p1 - p2)))\n",
    "\n",
    "def r_min(px, py, pz, x, y, z):\n",
    "    a = np.array([x, y, z])\n",
    "    p = np.array([px, py, pz])\n",
    "    return distance_lineline(np.array([1, 0, 0]), p, np.zeros(3), a)\n"
   ]
  },
  {
   "cell_type": "code",
   "execution_count": 106,
   "id": "e5898e7a",
   "metadata": {},
   "outputs": [],
   "source": [
    "df_sim['r_min'] = df_sim.apply(lambda row: r_min(row['px_start'], row['py_start'], row['pz_start'],\n",
    "                                                 row['x_start'], row['y_start'], row['z_start']), axis=1)"
   ]
  },
  {
   "cell_type": "code",
   "execution_count": 107,
   "id": "8caea596",
   "metadata": {
    "scrolled": true
   },
   "outputs": [
    {
     "data": {
      "image/png": "[encoded data removed]",
      "text/plain": [
       "<Figure size 432x288 with 2 Axes>"
      ]
     },
     "metadata": {
      "needs_background": "light"
     },
     "output_type": "display_data"
    }
   ],
   "source": [
    "N_bins = 50\n",
    "h = plt.hist2d(df_sim[\"r_min\"][df_sim[\"inCladding\"] == False],\n",
    "               df_sim[\"Theta\"][df_sim[\"inCladding\"] == False],\n",
    "               bins = [np.linspace(0, 0.125, N_bins), np.linspace(0, 50, N_bins)])\n",
    "plt.colorbar(h[3]);\n",
    "plt.xlabel(r\"$r_\\mathrm{min}$ [mm]\")\n",
    "plt.ylabel(r\"$\\theta$ [°]\");"
   ]
  },
  {
   "cell_type": "code",
   "execution_count": 108,
   "id": "2e63a6a0",
   "metadata": {},
   "outputs": [
    {
     "data": {
      "image/png": "[encoded data removed]",
      "text/plain": [
       "<Figure size 432x288 with 2 Axes>"
      ]
     },
     "metadata": {
      "needs_background": "light"
     },
     "output_type": "display_data"
    }
   ],
   "source": [
    "h2 = plt.hist2d(df_sim[\"r_min\"][df_sim[\"inCladding\"] == True],\n",
    "               df_sim[\"Theta\"][df_sim[\"inCladding\"] == True],\n",
    "               bins = [h[1], h[2]])\n",
    "plt.colorbar(h2[3]);\n",
    "plt.xlabel(\"r [mm]\")\n",
    "plt.ylabel(r\"$\\theta$ [°]\");"
   ]
  },
  {
   "cell_type": "code",
   "execution_count": 113,
   "id": "061d2a83",
   "metadata": {},
   "outputs": [
    {
     "data": {
      "image/png": "[encoded data removed]",
      "text/plain": [
       "<Figure size 432x288 with 2 Axes>"
      ]
     },
     "metadata": {
      "needs_background": "light"
     },
     "output_type": "display_data"
    }
   ],
   "source": [
    "h = plt.hist2d(df_sim[\"gpsPosX\"], df_sim[\"Theta\"], bins = 12)\n",
    "plt.colorbar(h[3]);\n",
    "plt.xlabel(r\"$x$ [mm]\")\n",
    "plt.ylabel(r\"$\\theta$ [°]\");"
   ]
  },
  {
   "cell_type": "code",
   "execution_count": 110,
   "id": "bbd5f29d",
   "metadata": {},
   "outputs": [
    {
     "data": {
      "image/png": "[encoded data removed]",
      "text/plain": [
       "<Figure size 432x288 with 1 Axes>"
      ]
     },
     "metadata": {
      "needs_background": "light"
     },
     "output_type": "display_data"
    }
   ],
   "source": [
    "plt.hist(df_sim[\"gpsPosX\"], bins = 12);"
   ]
  },
  {
   "cell_type": "code",
   "execution_count": 111,
   "id": "20b31089",
   "metadata": {},
   "outputs": [
    {
     "data": {
      "text/plain": [
       "array([2400., 2300., 2200., 2100., 2000., 1900., 1800., 1700., 1600.,\n",
       "       1500., 1400., 1300., 1200., 1100., 1000.,  900.,  800.,  700.,\n",
       "        600.,  500.,  400.,  300.,  200.,  100.])"
      ]
     },
     "execution_count": 111,
     "metadata": {},
     "output_type": "execute_result"
    }
   ],
   "source": [
    "df_sim[\"gpsPosX\"].unique()"
   ]
  },
  {
   "cell_type": "code",
   "execution_count": 129,
   "id": "7c590981",
   "metadata": {},
   "outputs": [],
   "source": [
    "test = pd.read_csv(\"content/data/Simulation/dataframe.csv\")"
   ]
  },
  {
   "cell_type": "code",
   "execution_count": 132,
   "id": "682096b9",
   "metadata": {},
   "outputs": [
    {
     "data": {
      "text/html": [
       "<div>\n",
       "<style scoped>\n",
       "    .dataframe tbody tr th:only-of-type {\n",
       "        vertical-align: middle;\n",
       "    }\n",
       "\n",
       "    .dataframe tbody tr th {\n",
       "        vertical-align: top;\n",
       "    }\n",
       "\n",
       "    .dataframe thead th {\n",
       "        text-align: right;\n",
       "    }\n",
       "</style>\n",
       "<table border=\"1\" class=\"dataframe\">\n",
       "  <thead>\n",
       "    <tr style=\"text-align: right;\">\n",
       "      <th></th>\n",
       "      <th>index</th>\n",
       "      <th>y_exit</th>\n",
       "      <th>z_exit</th>\n",
       "      <th>x_start</th>\n",
       "      <th>y_start</th>\n",
       "      <th>z_start</th>\n",
       "      <th>px_start</th>\n",
       "      <th>py_start</th>\n",
       "      <th>pz_start</th>\n",
       "      <th>reflCoCl</th>\n",
       "      <th>...</th>\n",
       "      <th>wl</th>\n",
       "      <th>gpsPosX</th>\n",
       "      <th>length_core</th>\n",
       "      <th>length_clad</th>\n",
       "      <th>rayleighScatterings</th>\n",
       "      <th>job_nr</th>\n",
       "      <th>r_exit</th>\n",
       "      <th>inCladding</th>\n",
       "      <th>Theta</th>\n",
       "      <th>r_min</th>\n",
       "    </tr>\n",
       "  </thead>\n",
       "  <tbody>\n",
       "    <tr>\n",
       "      <th>77</th>\n",
       "      <td>92</td>\n",
       "      <td>0.070553</td>\n",
       "      <td>0.009014</td>\n",
       "      <td>2400.019043</td>\n",
       "      <td>0.069999</td>\n",
       "      <td>0.032929</td>\n",
       "      <td>0.916163</td>\n",
       "      <td>0.289037</td>\n",
       "      <td>0.277673</td>\n",
       "      <td>1051.0</td>\n",
       "      <td>...</td>\n",
       "      <td>468.623016</td>\n",
       "      <td>2400.0</td>\n",
       "      <td>2270.170898</td>\n",
       "      <td>321.321381</td>\n",
       "      <td>1.0</td>\n",
       "      <td>0</td>\n",
       "      <td>0.071126</td>\n",
       "      <td>False</td>\n",
       "      <td>23.628514</td>\n",
       "      <td>0.024748</td>\n",
       "    </tr>\n",
       "    <tr>\n",
       "      <th>79</th>\n",
       "      <td>94</td>\n",
       "      <td>-0.039221</td>\n",
       "      <td>0.073926</td>\n",
       "      <td>2400.005981</td>\n",
       "      <td>-0.051767</td>\n",
       "      <td>0.036219</td>\n",
       "      <td>0.976354</td>\n",
       "      <td>0.215415</td>\n",
       "      <td>0.018118</td>\n",
       "      <td>2983.0</td>\n",
       "      <td>...</td>\n",
       "      <td>503.232910</td>\n",
       "      <td>2400.0</td>\n",
       "      <td>2477.364258</td>\n",
       "      <td>0.000000</td>\n",
       "      <td>1.0</td>\n",
       "      <td>0</td>\n",
       "      <td>0.083686</td>\n",
       "      <td>False</td>\n",
       "      <td>12.484528</td>\n",
       "      <td>0.040430</td>\n",
       "    </tr>\n",
       "    <tr>\n",
       "      <th>120</th>\n",
       "      <td>146</td>\n",
       "      <td>-0.022674</td>\n",
       "      <td>-0.075605</td>\n",
       "      <td>2400.037964</td>\n",
       "      <td>-0.059597</td>\n",
       "      <td>-0.065017</td>\n",
       "      <td>0.877456</td>\n",
       "      <td>0.195434</td>\n",
       "      <td>-0.438037</td>\n",
       "      <td>8567.0</td>\n",
       "      <td>...</td>\n",
       "      <td>503.112244</td>\n",
       "      <td>2400.0</td>\n",
       "      <td>2723.215332</td>\n",
       "      <td>0.000000</td>\n",
       "      <td>1.0</td>\n",
       "      <td>0</td>\n",
       "      <td>0.078932</td>\n",
       "      <td>False</td>\n",
       "      <td>28.662974</td>\n",
       "      <td>0.080917</td>\n",
       "    </tr>\n",
       "    <tr>\n",
       "      <th>124</th>\n",
       "      <td>150</td>\n",
       "      <td>-0.007071</td>\n",
       "      <td>-0.095279</td>\n",
       "      <td>2400.037476</td>\n",
       "      <td>-0.092822</td>\n",
       "      <td>-0.048473</td>\n",
       "      <td>0.903866</td>\n",
       "      <td>-0.425094</td>\n",
       "      <td>0.048186</td>\n",
       "      <td>4751.0</td>\n",
       "      <td>...</td>\n",
       "      <td>450.167450</td>\n",
       "      <td>2400.0</td>\n",
       "      <td>2551.358643</td>\n",
       "      <td>154.207947</td>\n",
       "      <td>1.0</td>\n",
       "      <td>0</td>\n",
       "      <td>0.095541</td>\n",
       "      <td>False</td>\n",
       "      <td>25.329082</td>\n",
       "      <td>0.058619</td>\n",
       "    </tr>\n",
       "    <tr>\n",
       "      <th>129</th>\n",
       "      <td>158</td>\n",
       "      <td>0.016889</td>\n",
       "      <td>0.046248</td>\n",
       "      <td>2400.043945</td>\n",
       "      <td>0.030125</td>\n",
       "      <td>0.054833</td>\n",
       "      <td>0.930349</td>\n",
       "      <td>0.292366</td>\n",
       "      <td>0.221300</td>\n",
       "      <td>644.0</td>\n",
       "      <td>...</td>\n",
       "      <td>574.447144</td>\n",
       "      <td>2400.0</td>\n",
       "      <td>1986.512329</td>\n",
       "      <td>528.122559</td>\n",
       "      <td>1.0</td>\n",
       "      <td>0</td>\n",
       "      <td>0.049235</td>\n",
       "      <td>False</td>\n",
       "      <td>21.510782</td>\n",
       "      <td>0.025540</td>\n",
       "    </tr>\n",
       "    <tr>\n",
       "      <th>...</th>\n",
       "      <td>...</td>\n",
       "      <td>...</td>\n",
       "      <td>...</td>\n",
       "      <td>...</td>\n",
       "      <td>...</td>\n",
       "      <td>...</td>\n",
       "      <td>...</td>\n",
       "      <td>...</td>\n",
       "      <td>...</td>\n",
       "      <td>...</td>\n",
       "      <td>...</td>\n",
       "      <td>...</td>\n",
       "      <td>...</td>\n",
       "      <td>...</td>\n",
       "      <td>...</td>\n",
       "      <td>...</td>\n",
       "      <td>...</td>\n",
       "      <td>...</td>\n",
       "      <td>...</td>\n",
       "      <td>...</td>\n",
       "      <td>...</td>\n",
       "    </tr>\n",
       "    <tr>\n",
       "      <th>389422</th>\n",
       "      <td>472837</td>\n",
       "      <td>0.025125</td>\n",
       "      <td>0.059787</td>\n",
       "      <td>100.007080</td>\n",
       "      <td>0.017186</td>\n",
       "      <td>-0.107812</td>\n",
       "      <td>-0.757570</td>\n",
       "      <td>-0.576100</td>\n",
       "      <td>0.306915</td>\n",
       "      <td>1710.0</td>\n",
       "      <td>...</td>\n",
       "      <td>472.473480</td>\n",
       "      <td>100.0</td>\n",
       "      <td>3238.214844</td>\n",
       "      <td>506.635254</td>\n",
       "      <td>1.0</td>\n",
       "      <td>47</td>\n",
       "      <td>0.064852</td>\n",
       "      <td>False</td>\n",
       "      <td>139.250422</td>\n",
       "      <td>0.087071</td>\n",
       "    </tr>\n",
       "    <tr>\n",
       "      <th>389466</th>\n",
       "      <td>472889</td>\n",
       "      <td>0.037972</td>\n",
       "      <td>0.006395</td>\n",
       "      <td>99.997681</td>\n",
       "      <td>0.037501</td>\n",
       "      <td>-0.056392</td>\n",
       "      <td>0.986284</td>\n",
       "      <td>0.154235</td>\n",
       "      <td>0.058787</td>\n",
       "      <td>103.0</td>\n",
       "      <td>...</td>\n",
       "      <td>454.921295</td>\n",
       "      <td>100.0</td>\n",
       "      <td>102.149605</td>\n",
       "      <td>0.000000</td>\n",
       "      <td>1.0</td>\n",
       "      <td>47</td>\n",
       "      <td>0.038507</td>\n",
       "      <td>False</td>\n",
       "      <td>9.500653</td>\n",
       "      <td>0.066050</td>\n",
       "    </tr>\n",
       "    <tr>\n",
       "      <th>389559</th>\n",
       "      <td>472997</td>\n",
       "      <td>-0.044078</td>\n",
       "      <td>-0.006101</td>\n",
       "      <td>99.998657</td>\n",
       "      <td>-0.084585</td>\n",
       "      <td>-0.038877</td>\n",
       "      <td>-0.944382</td>\n",
       "      <td>-0.237443</td>\n",
       "      <td>-0.227513</td>\n",
       "      <td>2649.0</td>\n",
       "      <td>...</td>\n",
       "      <td>492.399292</td>\n",
       "      <td>100.0</td>\n",
       "      <td>3334.207520</td>\n",
       "      <td>231.694000</td>\n",
       "      <td>1.0</td>\n",
       "      <td>47</td>\n",
       "      <td>0.044498</td>\n",
       "      <td>False</td>\n",
       "      <td>160.801066</td>\n",
       "      <td>0.030449</td>\n",
       "    </tr>\n",
       "    <tr>\n",
       "      <th>389573</th>\n",
       "      <td>473014</td>\n",
       "      <td>0.006724</td>\n",
       "      <td>0.071672</td>\n",
       "      <td>112.098511</td>\n",
       "      <td>-0.108049</td>\n",
       "      <td>-0.017191</td>\n",
       "      <td>-0.176093</td>\n",
       "      <td>-0.129629</td>\n",
       "      <td>0.975801</td>\n",
       "      <td>3798.0</td>\n",
       "      <td>...</td>\n",
       "      <td>425.599854</td>\n",
       "      <td>100.0</td>\n",
       "      <td>217.069427</td>\n",
       "      <td>0.000000</td>\n",
       "      <td>1.0</td>\n",
       "      <td>47</td>\n",
       "      <td>0.071987</td>\n",
       "      <td>False</td>\n",
       "      <td>100.142274</td>\n",
       "      <td>0.109372</td>\n",
       "    </tr>\n",
       "    <tr>\n",
       "      <th>389597</th>\n",
       "      <td>473044</td>\n",
       "      <td>0.073030</td>\n",
       "      <td>0.001280</td>\n",
       "      <td>110.552002</td>\n",
       "      <td>-0.063291</td>\n",
       "      <td>-0.055631</td>\n",
       "      <td>-0.926341</td>\n",
       "      <td>-0.301549</td>\n",
       "      <td>0.225744</td>\n",
       "      <td>5080.0</td>\n",
       "      <td>...</td>\n",
       "      <td>491.222778</td>\n",
       "      <td>100.0</td>\n",
       "      <td>3689.579590</td>\n",
       "      <td>422.518097</td>\n",
       "      <td>1.0</td>\n",
       "      <td>47</td>\n",
       "      <td>0.073041</td>\n",
       "      <td>False</td>\n",
       "      <td>157.871452</td>\n",
       "      <td>0.082464</td>\n",
       "    </tr>\n",
       "  </tbody>\n",
       "</table>\n",
       "<p>10187 rows × 21 columns</p>\n",
       "</div>"
      ],
      "text/plain": [
       "         index    y_exit    z_exit      x_start   y_start   z_start  px_start  \\\n",
       "77          92  0.070553  0.009014  2400.019043  0.069999  0.032929  0.916163   \n",
       "79          94 -0.039221  0.073926  2400.005981 -0.051767  0.036219  0.976354   \n",
       "120        146 -0.022674 -0.075605  2400.037964 -0.059597 -0.065017  0.877456   \n",
       "124        150 -0.007071 -0.095279  2400.037476 -0.092822 -0.048473  0.903866   \n",
       "129        158  0.016889  0.046248  2400.043945  0.030125  0.054833  0.930349   \n",
       "...        ...       ...       ...          ...       ...       ...       ...   \n",
       "389422  472837  0.025125  0.059787   100.007080  0.017186 -0.107812 -0.757570   \n",
       "389466  472889  0.037972  0.006395    99.997681  0.037501 -0.056392  0.986284   \n",
       "389559  472997 -0.044078 -0.006101    99.998657 -0.084585 -0.038877 -0.944382   \n",
       "389573  473014  0.006724  0.071672   112.098511 -0.108049 -0.017191 -0.176093   \n",
       "389597  473044  0.073030  0.001280   110.552002 -0.063291 -0.055631 -0.926341   \n",
       "\n",
       "        py_start  pz_start  reflCoCl  ...          wl  gpsPosX  length_core  \\\n",
       "77      0.289037  0.277673    1051.0  ...  468.623016   2400.0  2270.170898   \n",
       "79      0.215415  0.018118    2983.0  ...  503.232910   2400.0  2477.364258   \n",
       "120     0.195434 -0.438037    8567.0  ...  503.112244   2400.0  2723.215332   \n",
       "124    -0.425094  0.048186    4751.0  ...  450.167450   2400.0  2551.358643   \n",
       "129     0.292366  0.221300     644.0  ...  574.447144   2400.0  1986.512329   \n",
       "...          ...       ...       ...  ...         ...      ...          ...   \n",
       "389422 -0.576100  0.306915    1710.0  ...  472.473480    100.0  3238.214844   \n",
       "389466  0.154235  0.058787     103.0  ...  454.921295    100.0   102.149605   \n",
       "389559 -0.237443 -0.227513    2649.0  ...  492.399292    100.0  3334.207520   \n",
       "389573 -0.129629  0.975801    3798.0  ...  425.599854    100.0   217.069427   \n",
       "389597 -0.301549  0.225744    5080.0  ...  491.222778    100.0  3689.579590   \n",
       "\n",
       "        length_clad  rayleighScatterings  job_nr    r_exit  inCladding  \\\n",
       "77       321.321381                  1.0       0  0.071126       False   \n",
       "79         0.000000                  1.0       0  0.083686       False   \n",
       "120        0.000000                  1.0       0  0.078932       False   \n",
       "124      154.207947                  1.0       0  0.095541       False   \n",
       "129      528.122559                  1.0       0  0.049235       False   \n",
       "...             ...                  ...     ...       ...         ...   \n",
       "389422   506.635254                  1.0      47  0.064852       False   \n",
       "389466     0.000000                  1.0      47  0.038507       False   \n",
       "389559   231.694000                  1.0      47  0.044498       False   \n",
       "389573     0.000000                  1.0      47  0.071987       False   \n",
       "389597   422.518097                  1.0      47  0.073041       False   \n",
       "\n",
       "             Theta     r_min  \n",
       "77       23.628514  0.024748  \n",
       "79       12.484528  0.040430  \n",
       "120      28.662974  0.080917  \n",
       "124      25.329082  0.058619  \n",
       "129      21.510782  0.025540  \n",
       "...            ...       ...  \n",
       "389422  139.250422  0.087071  \n",
       "389466    9.500653  0.066050  \n",
       "389559  160.801066  0.030449  \n",
       "389573  100.142274  0.109372  \n",
       "389597  157.871452  0.082464  \n",
       "\n",
       "[10187 rows x 21 columns]"
      ]
     },
     "execution_count": 132,
     "metadata": {},
     "output_type": "execute_result"
    }
   ],
   "source": [
    "test[test[\"rayleighScatterings\"] > 0]"
   ]
  },
  {
   "cell_type": "code",
   "execution_count": 131,
   "id": "13f3d9c1",
   "metadata": {},
   "outputs": [
    {
     "data": {
      "text/plain": [
       "379465"
      ]
     },
     "execution_count": 131,
     "metadata": {},
     "output_type": "execute_result"
    }
   ],
   "source": [
    "len(df_sim)"
   ]
  },
  {
   "cell_type": "code",
   "execution_count": null,
   "id": "b44bdbce",
   "metadata": {},
   "outputs": [],
   "source": [
    "389652"
   ]
  }
 ],
 "metadata": {
  "kernelspec": {
   "display_name": "Python 3 (ipykernel)",
   "language": "python",
   "name": "python3"
  },
  "language_info": {
   "codemirror_mode": {
    "name": "ipython",
    "version": 3
   },
   "file_extension": ".py",
   "mimetype": "text/x-python",
   "name": "python",
   "nbconvert_exporter": "python",
   "pygments_lexer": "ipython3",
   "version": "3.9.7"
  }
 },
 "nbformat": 4,
 "nbformat_minor": 5
}
