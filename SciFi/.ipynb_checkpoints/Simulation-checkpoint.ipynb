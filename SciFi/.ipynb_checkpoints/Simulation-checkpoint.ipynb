{
 "cells": [
  {
   "cell_type": "code",
   "execution_count": 68,
   "id": "8118a10b",
   "metadata": {},
   "outputs": [],
   "source": [
    "import matplotlib.pyplot as plt\n",
    "import numpy as np\n",
    "import scipy.optimize as op\n",
    "import uncertainties.unumpy as unp\n",
    "from uncertainties import ufloat\n",
    "import scipy.constants as const\n",
    "from uncertainties.unumpy import nominal_values as noms\n",
    "from uncertainties.unumpy import std_devs as stds\n",
    "import pandas as pd"
   ]
  },
  {
   "cell_type": "code",
   "execution_count": 69,
   "id": "be6138be",
   "metadata": {},
   "outputs": [
    {
     "name": "stdout",
     "output_type": "stream",
     "text": [
      "     y_exit    z_exit      x_start   y_start   z_start  px_start  py_start  \\\n",
      "0 -0.026978 -0.061619  2400.019897 -0.051878  0.096635  0.948434  0.162628   \n",
      "1 -0.055254  0.050902  2400.000732  0.085666  0.015889  0.977825 -0.139056   \n",
      "2  0.049212  0.065583  2399.990967  0.006511 -0.025208  0.917937 -0.225034   \n",
      "3 -0.018177 -0.106197  2400.062012 -0.043234 -0.098842  0.885576  0.074564   \n",
      "4  0.050591  0.043467  2400.000977 -0.004035 -0.069628  0.971248 -0.103995   \n",
      "\n",
      "   pz_start  reflCoCl  reflClCl          wl  gpsPosX  length_core  \\\n",
      "0 -0.272077    3649.0       0.0  472.743103   2400.0  2530.557861   \n",
      "1 -0.156593    2674.0       0.0  504.521210   2400.0  2454.456055   \n",
      "2  0.326729       0.0    3894.0  442.621185   2400.0  2204.132568   \n",
      "3 -0.458470       0.0    5517.0  484.213989   2400.0  2210.260498   \n",
      "4 -0.214154    2757.0       0.0  489.916565   2400.0  2470.986084   \n",
      "\n",
      "   length_clad  rayleighScatterings  \n",
      "0     0.000000                  0.0  \n",
      "1     0.000000                  0.0  \n",
      "2   381.522583                  0.0  \n",
      "3   466.030212                  0.0  \n",
      "4     0.000000                  0.0  \n"
     ]
    }
   ],
   "source": [
    "# reading data\n",
    "df_sim = pd.DataFrame()\n",
    "\n",
    "names = [\"y_exit\", \"z_exit\", \"x_start\", \"y_start\", \"z_start\", \"px_start\", \"py_start\", \"pz_start\", \"reflCoCl\", \"reflClCl\", \"wl\", \"gpsPosX\", \"length_core\", \"length_clad\", \"rayleighScatterings\"]\n",
    "\n",
    "for i in range(50):\n",
    "    frame = pd.read_csv(f\"content/data/Simulation/job_{i}.txt\", sep=\"\\s+\", comment = \"#\", names = names)\n",
    "    df_sim = df_sim.append(frame)\n",
    "\n",
    "print(df_sim.head())\n"
   ]
  },
  {
   "cell_type": "code",
   "execution_count": 70,
   "id": "3783d39d",
   "metadata": {},
   "outputs": [
    {
     "data": {
      "image/png": "[encoded data removed]",
      "text/plain": [
       "<Figure size 432x288 with 1 Axes>"
      ]
     },
     "metadata": {
      "needs_background": "light"
     },
     "output_type": "display_data"
    }
   ],
   "source": [
    "df_sim[\"r_exit\"] = np.sqrt(df_sim[\"y_exit\"]**2 + df_sim[\"z_exit\"]**2)\n",
    "\n",
    "_, bins, _ = plt.hist(df_sim[\"r_exit\"], bins = 100, range = [0, 0.5])"
   ]
  },
  {
   "cell_type": "code",
   "execution_count": 71,
   "id": "4a41fb50",
   "metadata": {},
   "outputs": [
    {
     "data": {
      "image/png": "[encoded data removed]",
      "text/plain": [
       "<Figure size 432x288 with 1 Axes>"
      ]
     },
     "metadata": {
      "needs_background": "light"
     },
     "output_type": "display_data"
    }
   ],
   "source": [
    "df_sim = df_sim.drop(df_sim[df_sim.r_exit > 0.125].index)\n",
    "plt.hist(df_sim[\"r_exit\"], bins = bins);"
   ]
  },
  {
   "cell_type": "code",
   "execution_count": 72,
   "id": "f4004a3d",
   "metadata": {},
   "outputs": [
    {
     "name": "stdout",
     "output_type": "stream",
     "text": [
      "60480\n",
      "50928\n"
     ]
    }
   ],
   "source": [
    "print(df_sim.size)\n",
    "df_sim = df_sim.drop(df_sim[df_sim[\"rayleighScatterings\"] > 0].index)\n",
    "print(df_sim.size)"
   ]
  },
  {
   "cell_type": "code",
   "execution_count": 73,
   "id": "c06013a2",
   "metadata": {},
   "outputs": [],
   "source": [
    "df_sim[\"inCladding\"] = df_sim[\"r_exit\"] > 0.11\n",
    "df_sim[\"Theta\"] = np.arccos(df_sim[\"px_start\"])/np.pi*180"
   ]
  },
  {
   "cell_type": "code",
   "execution_count": 81,
   "id": "283aa30e",
   "metadata": {},
   "outputs": [
    {
     "data": {
      "text/plain": [
       "<matplotlib.legend.Legend at 0x7f3f109128b0>"
      ]
     },
     "execution_count": 81,
     "metadata": {},
     "output_type": "execute_result"
    },
    {
     "data": {
      "image/png": "[encoded data removed]",
      "text/plain": [
       "<Figure size 432x288 with 1 Axes>"
      ]
     },
     "metadata": {
      "needs_background": "light"
     },
     "output_type": "display_data"
    }
   ],
   "source": [
    "_, bins, _ = plt.hist(df_sim[\"Theta\"][df_sim[\"inCladding\"] == False], bins = 30, label = \"Kernphoton\")\n",
    "_, bins, _ = plt.hist(df_sim[\"Theta\"][df_sim[\"inCladding\"] == True], bins = 30, alpha = 0.5, label = \"Mantelphoton\")\n",
    "plt.vlines([38.68, 42.16, 44.77], 0, 200, color = \"red\");\n",
    "plt.legend()"
   ]
  },
  {
   "cell_type": "code",
   "execution_count": 75,
   "id": "a7681bfe",
   "metadata": {},
   "outputs": [
    {
     "data": {
      "text/plain": [
       "inCladding\n",
       "False    38.401762\n",
       "True     45.065029\n",
       "Name: Theta, dtype: float64"
      ]
     },
     "execution_count": 75,
     "metadata": {},
     "output_type": "execute_result"
    }
   ],
   "source": [
    "df_sim.groupby([\"inCladding\"])[\"Theta\"].max()"
   ]
  },
  {
   "cell_type": "code",
   "execution_count": 76,
   "id": "fc00a48b",
   "metadata": {},
   "outputs": [],
   "source": [
    "# Abstand zum Mittelpunkt (Abstand Gerade-Gerade)\n",
    "\n",
    "def distance_lineline(v1, v2, p1, p2): # v1, v2, p1, p2 should be numpy arrays\n",
    "    cross_prod = np.cross(v1, v2)\n",
    "    if np.all(cross_prod == 0):\n",
    "        return np.linalg.norm(p1 - p2)\n",
    "    n = cross_prod / np.linalg.norm(cross_prod)\n",
    "    return np.abs(np.dot(n, (p1 - p2)))\n",
    "\n",
    "def r_min(px, py, pz, x, y, z):\n",
    "    a = np.array([x, y, z])\n",
    "    p = np.array([px, py, pz])\n",
    "    return distance_lineline(np.array([1, 0, 0]), p, np.zeros(3), a)\n"
   ]
  },
  {
   "cell_type": "code",
   "execution_count": 77,
   "id": "e5898e7a",
   "metadata": {},
   "outputs": [],
   "source": [
    "df_sim['r_min'] = df_sim.apply(lambda row: r_min(row['px_start'], row['py_start'], row['pz_start'],\n",
    "                                                 row['x_start'], row['y_start'], row['z_start']), axis=1)"
   ]
  },
  {
   "cell_type": "code",
   "execution_count": 85,
   "id": "8caea596",
   "metadata": {
    "scrolled": true
   },
   "outputs": [
    {
     "data": {
      "image/png": "[encoded data removed]",
      "text/plain": [
       "<Figure size 432x288 with 1 Axes>"
      ]
     },
     "metadata": {
      "needs_background": "light"
     },
     "output_type": "display_data"
    }
   ],
   "source": [
    "plt.hist2d(df_sim[\"Theta\"][df_sim[\"inCladding\"] == False], \n",
    "           df_sim[\"r_min\"][df_sim[\"inCladding\"] == False],\n",
    "           bins = 30, label = \"Kernphoton\");"
   ]
  },
  {
   "cell_type": "code",
   "execution_count": 79,
   "id": "2e63a6a0",
   "metadata": {},
   "outputs": [
    {
     "data": {
      "image/png": "[encoded data removed]",
      "text/plain": [
       "<Figure size 432x288 with 1 Axes>"
      ]
     },
     "metadata": {
      "needs_background": "light"
     },
     "output_type": "display_data"
    }
   ],
   "source": [
    "plt.hist2d(df_sim[\"Theta\"][df_sim[\"inCladding\"] == True], \n",
    "           df_sim[\"r_min\"][df_sim[\"inCladding\"] == True],\n",
    "           bins = 30, label = \"Kernphoton\");"
   ]
  },
  {
   "cell_type": "code",
   "execution_count": 83,
   "id": "061d2a83",
   "metadata": {},
   "outputs": [
    {
     "data": {
      "image/png": "[encoded data removed]",
      "text/plain": [
       "<Figure size 432x288 with 1 Axes>"
      ]
     },
     "metadata": {
      "needs_background": "light"
     },
     "output_type": "display_data"
    }
   ],
   "source": [
    "plt.hist2d(df_sim[\"gpsPosX\"], df_sim[\"Theta\"], label = \"Kernphoton\");"
   ]
  },
  {
   "cell_type": "code",
   "execution_count": null,
   "id": "bbd5f29d",
   "metadata": {},
   "outputs": [],
   "source": []
  }
 ],
 "metadata": {
  "kernelspec": {
   "display_name": "Python 3",
   "language": "python",
   "name": "python3"
  },
  "language_info": {
   "codemirror_mode": {
    "name": "ipython",
    "version": 3
   },
   "file_extension": ".py",
   "mimetype": "text/x-python",
   "name": "python",
   "nbconvert_exporter": "python",
   "pygments_lexer": "ipython3",
   "version": "3.8.8"
  }
 },
 "nbformat": 4,
 "nbformat_minor": 5
}
