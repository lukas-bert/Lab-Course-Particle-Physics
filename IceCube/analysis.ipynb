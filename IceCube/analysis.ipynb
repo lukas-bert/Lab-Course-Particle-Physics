{
 "cells": [
  {
   "cell_type": "markdown",
   "metadata": {},
   "source": [
    "# Analysis IceCube Data"
   ]
  },
  {
   "cell_type": "code",
   "execution_count": 1,
   "metadata": {},
   "outputs": [],
   "source": [
    "# !pip install mrmr_selection\n",
    "# !pip install seaborn"
   ]
  },
  {
   "cell_type": "code",
   "execution_count": 2,
   "metadata": {},
   "outputs": [],
   "source": [
    "import matplotlib.pyplot as plt\n",
    "import numpy as np\n",
    "import scipy.optimize as op\n",
    "import uncertainties.unumpy as unp\n",
    "from uncertainties import ufloat\n",
    "import scipy.constants as const\n",
    "from scipy.optimize import curve_fit\n",
    "from uncertainties.unumpy import nominal_values as noms\n",
    "from uncertainties.unumpy import std_devs as stds\n",
    "import pandas as pd\n",
    "import seaborn as sn\n",
    "\n",
    "import mrmr\n",
    "\n",
    "from sklearn.preprocessing import StandardScaler\n",
    "from sklearn.ensemble import RandomForestClassifier\n",
    "from sklearn.naive_bayes import GaussianNB\n",
    "from sklearn.neural_network import MLPClassifier\n",
    "from sklearn.model_selection import train_test_split\n",
    "from sklearn.model_selection import cross_validate\n",
    "from sklearn.model_selection import KFold\n",
    "from sklearn.metrics import accuracy_score\n",
    "from sklearn.metrics import precision_score\n",
    "from sklearn.metrics import roc_curve\n",
    "from sklearn.metrics import roc_auc_score\n",
    "from sklearn.metrics import confusion_matrix\n",
    "from sklearn.neighbors import KNeighborsClassifier"
   ]
  },
  {
   "cell_type": "code",
   "execution_count": 3,
   "metadata": {},
   "outputs": [],
   "source": [
    "# import data\n",
    "signal = pd.read_csv('content/data/signal_train.csv', sep=',')\n",
    "background = pd.read_csv('content/data/background_train.csv', sep=',')"
   ]
  },
  {
   "cell_type": "markdown",
   "metadata": {},
   "source": [
    "## Preparation of the Data"
   ]
  },
  {
   "cell_type": "code",
   "execution_count": 4,
   "metadata": {},
   "outputs": [],
   "source": [
    "# print(background[\"label\"])\n",
    "# print(signal[\"label\"])\n",
    "\n",
    "# bg label = 0; signal label = 1"
   ]
  },
  {
   "cell_type": "code",
   "execution_count": 5,
   "metadata": {},
   "outputs": [],
   "source": [
    "df = pd.concat((signal, background))\n",
    "keys = df.columns.values\n",
    "\n",
    "mcTruths = [\"Weight\", \"MC\",\"Corsica\", \"I3EventHeader\"]\n",
    "\n",
    "for feature in keys:  \n",
    "    # Remove MC truths\n",
    "    if any(substring in feature for substring in mcTruths):\n",
    "        df.drop(columns=[feature], inplace=True)\n",
    "\n",
    "\n",
    "\n",
    "# Dropping all features with more than .x NaN or inf\n",
    "threshold = 0.1\n",
    "max_invalid_count = int(threshold * len(df))\n",
    "\n",
    "df.replace({np.inf: np.nan, -np.inf: np.nan}, inplace=True) # Replace inf with NaN\n",
    "nan_counts = df.isna().sum()\n",
    "cols_to_drop = nan_counts[nan_counts > max_invalid_count].index\n",
    "df.drop(columns=cols_to_drop, inplace=True)\n",
    "\n",
    "# Dropping all rows that still have NaN or inf\n",
    "df.dropna(inplace=True)\n",
    "\n",
    "# # Initialize the scaler\n",
    "# scaler = StandardScaler()\n",
    "\n",
    "# # Fit and transform the data\n",
    "# X = scaler.fit_transform(df)\n",
    "\n",
    "# # Convert the transformed data back to a DataFrame\n",
    "# df = pd.DataFrame(X, columns=df.columns)"
   ]
  },
  {
   "cell_type": "markdown",
   "metadata": {},
   "source": [
    "## Attribute Selection"
   ]
  },
  {
   "cell_type": "code",
   "execution_count": 6,
   "metadata": {},
   "outputs": [],
   "source": [
    "# df need further treatment... save labels and drop them\n",
    "label = df[\"label\"]\n",
    "df.drop(columns=[\"label\"], inplace=True)\n",
    "keys_new = df.columns.values"
   ]
  },
  {
   "cell_type": "code",
   "execution_count": 7,
   "metadata": {},
   "outputs": [
    {
     "name": "stderr",
     "output_type": "stream",
     "text": [
      "100%|██████████| 100/100 [00:17<00:00,  5.88it/s]\n"
     ]
    }
   ],
   "source": [
    "features_class = mrmr.mrmr_classif(X=df, y=label, K=100) ## determine the best 100 features in order "
   ]
  },
  {
   "cell_type": "code",
   "execution_count": 8,
   "metadata": {},
   "outputs": [
    {
     "name": "stdout",
     "output_type": "stream",
     "text": [
      "['LineFit_TTParams.lf_vel_z', 'SplineMPEDirectHitsC.n_dir_strings', 'HitStatisticsValues.z_travel', 'SplineMPEFitParams.rlogl', 'SplineMPECharacteristics.avg_dom_dist_q_tot_dom', 'LineFit_TT.zenith', 'SplineMPEDirectHitsA.n_dir_strings', 'MuEXAngular4.zenith', 'NewAtt.SplineVerRadius', 'SplineMPE.zenith', 'MuEXAngular4_Sigma.value', 'SplineMPEDirectHitsA.n_dir_doms', 'MPEFitHighNoise.zenith', 'MPEFit_TTFitParams.rlogl', 'SplineMPEMuEXDifferential.zenith', 'NewAtt.DeltaZd', 'SplineMPETruncatedEnergy_SPICEMie_AllBINS_Muon.zenith', 'SplineMPEDirectHitsC.dir_track_length', 'SPEFit2_TT.zenith', 'SplineMPETruncatedEnergy_SPICEMie_AllDOMS_Muon.zenith', 'NewAtt.radius', 'MPEFitHighNoiseFitParams.rlogl', 'MPEFit_TT.zenith', 'MPEFitParaboloid.zenith', 'SplineMPECharacteristics.track_hits_separation_length', 'MPEFitParaboloidFitParams.zenith', 'SplineMPETruncatedEnergy_SPICEMie_AllDOMS_MuEres.value', 'SPEFit2Bayesian.z', 'LineFit_TTParams.lf_vel', 'SplineMPETruncatedEnergy_SPICEMie_AllBINS_MuEres.value', 'SplineMPEDirectHitsC.n_dir_doms', 'HitStatisticsValues.z_min', 'MPEFitParaboloidFitParams.err1', 'SplineMPEDirectHitsE.dir_track_length', 'NewAtt.AbsSmooth', 'SPEFit2_TTFitParams.rlogl', 'NewAtt.DirectEllipse', 'SPEFit2Bayesian.zenith', 'HitStatisticsValues.cog_z_sigma', 'SPEFit2_TT.z', 'HitStatisticsValues.z_sigma', 'MPEFit_TT.z', 'MPEFitParaboloid.z', 'MPEFitHighNoise.z', 'SplineMPEMuEXDifferential.z', 'SplineMPEDirectHitsE.n_dir_doms', 'MuEXAngular4.z', 'SplineMPE.z', 'SplineMPETruncatedEnergy_SPICEMie_AllBINS_Muon.z', 'SplineMPEMuEXDifferential.energy', 'SplineMPETruncatedEnergy_SPICEMie_AllDOMS_Muon.z', 'NewID', 'HitStatisticsValues.z_mean', 'HitStatisticsValues.cog_z', 'MPEFitParaboloidFitParams.err2', 'LineFit_TT.z', 'SplineMPEDirectHitsE.n_dir_strings', 'SPEFit2BayesianFitParams.logl', 'SplineMPECharacteristics.track_hits_distribution_smoothness', 'HitMultiplicityValues.n_hit_doms_one_pulse', 'SplineMPETruncatedEnergy_SPICEMie_AllDOMS_Muon.energy', 'HitStatisticsValues.z_max', 'SplineMPEMuEXDifferential_r.value', 'SplineMPETruncatedEnergy_SPICEMie_AllBINS_Muon.energy', 'SplineMPEMuEXDifferential.time', 'SplineMPEDirectHitsE.dir_track_hit_distribution_smoothness', 'SplineMPEDirectHitsA.n_late_strings', 'SPEFit2_TT.time', 'HitMultiplicityValues.n_hit_strings', 'SPEFit2Bayesian.azimuth', 'MuEXAngular4.time', 'SplineMPEDirectHitsC.n_late_strings', 'SplineMPE.time', 'SplineMPETruncatedEnergy_SPICEMie_AllBINS_Muon.time', 'HitMultiplicityValues.n_hit_doms', 'SplineMPETruncatedEnergy_SPICEMie_AllDOMS_Muon.time', 'MPEFit_TT.time', 'SplineMPEDirectHitsA.n_late_doms', 'MPEFitParaboloid.time', 'MPEFitHighNoise.time', 'SPEFit2_TTFitParams.logl', 'MPEFitHighNoiseFitParams.logl', 'NewAtt.SPEBayVerRadius', 'LineFit_TTParams.lf_vel_y', 'MPEFitParaboloidFitParams.center_llh', 'LineFit_TT.time', 'MPEFit_TTFitParams.logl', 'SplineMPEDirectHitsC.dir_track_hit_distribution_smoothness', 'HitStatisticsValues.max_pulse_time', 'SplineMPEDirectHitsE.n_late_strings', 'SPEFit2Bayesian.x', 'NewAtt.SepDevide', 'MPEFitParaboloidFitParams.rotang', 'SplineMPEDirectHitsE.n_late_doms', 'SplineMPEDirectHitsA.n_early_doms', 'SPEFit2Bayesian.y', 'SplineMPEDirectHitsC.n_early_doms', 'SplineMPEDirectHitsE.n_early_doms', 'SplineMPECharacteristics.empty_hits_track_length', 'SplineMPEFitParams.logl']\n"
     ]
    }
   ],
   "source": [
    "print(features_class)"
   ]
  },
  {
   "cell_type": "code",
   "execution_count": 9,
   "metadata": {},
   "outputs": [],
   "source": [
    "# Plot n best and n worst features\n",
    "n = 3 \n",
    "plt.close()\n",
    "fig, ax = plt.subplots(1,n,figsize=(10, 5))\n",
    "for i in range(n):\n",
    "    ax[i].hist(background[features_class[i]], histtype=\"step\", label=\"BG\")\n",
    "    ax[i].hist(signal[features_class[i]], histtype=\"step\", label=\"Signal\")\n",
    "    ax[i].set_xlabel(features_class[i], labelpad=1.0)\n",
    "    ax[i].set_ylabel(\"Counts\")\n",
    "    ax[i].legend()\n",
    "fig.tight_layout()\n",
    "plt.savefig(f\"content/plots/best_{n}_features.pdf\")\n",
    "plt.close()\n",
    "\n",
    "fig, ax = plt.subplots(1,n,figsize=(10, 5))\n",
    "for i in range(n):\n",
    "    ax[i].hist(background[features_class[len(features_class)-i-1]], histtype=\"step\", label=\"BG\")\n",
    "    ax[i].hist(signal[features_class[len(features_class)-i-1]], histtype=\"step\", label=\"Signal\")\n",
    "    ax[i].set_xlabel(features_class[len(features_class)-i-1], labelpad=1.0, fontsize=8)\n",
    "    ax[i].set_ylabel(\"Counts\")\n",
    "    ax[i].legend()\n",
    "fig.tight_layout()\n",
    "plt.savefig(f\"content/plots/worst_{n}_features.pdf\")\n",
    "plt.close()"
   ]
  },
  {
   "cell_type": "markdown",
   "metadata": {},
   "source": [
    "## Multivariate Selection"
   ]
  },
  {
   "cell_type": "code",
   "execution_count": 10,
   "metadata": {},
   "outputs": [],
   "source": [
    "# defining the accuracy, precision, recall, f_beta score used later\n",
    "def accuracy(TP,FP,TN,FN):\n",
    "    return (TP + TN) / (TP + TN + FP + FN)\n",
    "\n",
    "def precision(TP, FP):\n",
    "    return TP / (TP + FP) if (TP + FP) > 0 else 0.0\n",
    "\n",
    "def recall(TP, FN):\n",
    "    return TP / (TP + FN) if (TP + FN) > 0 else 0.0\n",
    "\n",
    "def f_beta(TP, FP, FN, beta=0.1):\n",
    "    p = precision(TP, FP)\n",
    "    r = recall(TP, FN)\n",
    "    # if p + r == 0:\n",
    "    #     return 0\n",
    "    return (1 + beta**2) * (p * r) / (beta**2 * p + r) if p+r !=0 else 0"
   ]
  },
  {
   "cell_type": "markdown",
   "metadata": {},
   "source": [
    "### Naive Bayes model"
   ]
  },
  {
   "cell_type": "code",
   "execution_count": 11,
   "metadata": {},
   "outputs": [
    {
     "name": "stdout",
     "output_type": "stream",
     "text": [
      "\n",
      "GaussianNB Cross validation result:\n",
      "Accuracy: 0.827+/-0.005\n",
      "Precision: 0.873+/-0.008\n",
      "ROC: 0.921+/-0.005\n",
      "\n",
      "t_best_naive = 0.9899\n"
     ]
    }
   ],
   "source": [
    "# Naive Bayes model\n",
    "features_used_naive = 10\n",
    "X_naive = df[features_class[:features_used_naive]]\n",
    "kfold_naive = KFold(n_splits=5, shuffle=True) ## kfolding with shuffling\n",
    "cv_result_naive = cross_validate(GaussianNB(), X_naive, label, scoring=[\"accuracy\", \"precision\", \"roc_auc\"], cv = kfold_naive, return_estimator=True)\n",
    "print(\"\")\n",
    "print(f\"GaussianNB Cross validation result:\")\n",
    "print(f\"Accuracy: {ufloat(np.mean(cv_result_naive['test_accuracy']),np.std(cv_result_naive['test_accuracy']))}\")\n",
    "print(f\"Precision: {ufloat(np.mean(cv_result_naive['test_precision']),np.std(cv_result_naive['test_precision']))}\")\n",
    "#print(f\"Recall: {ufloat(np.mean(cv_result['test_recall']),np.std(cv_result['test_recall']))}\") #not provided in this function\n",
    "print(f\"ROC: {ufloat(np.mean(cv_result_naive['test_roc_auc']),np.std(cv_result_naive['test_roc_auc']))}\")\n",
    "print(\"\")\n",
    "\n",
    "# Use the first trained estimator from the cross-validation result\n",
    "trained_model_naive = cv_result_naive['estimator'][0]\n",
    "\n",
    "# Predict probabilities using the trained model\n",
    "y_pred_proba_naive = trained_model_naive.predict_proba(X_naive) # (data, label)\n",
    "\n",
    "accuracy_list_naive = []\n",
    "precision_list_naive = [] \n",
    "recall_list_naive = []\n",
    "f_beta_list_naive = []\n",
    "\n",
    "threshold_naive = np.linspace(0,1,100)\n",
    "for t in threshold_naive:\n",
    "    y_pred_naive = (y_pred_proba_naive[:,1] > t)#.astype(int)\n",
    "    conf_mat_naive = confusion_matrix(label, y_pred_naive)\n",
    "    TP = conf_mat_naive[1][1]\n",
    "    FP = conf_mat_naive[0][1]\n",
    "    TN = conf_mat_naive[0][0]\n",
    "    FN = conf_mat_naive[1][0]\n",
    "    \n",
    "    accuracy_list_naive.append(accuracy(TP,FP,TN,FN))\n",
    "    precision_list_naive.append(precision(TP,FP))\n",
    "    recall_list_naive.append(recall(TP,FN))\n",
    "    f_beta_list_naive.append(f_beta(TP,FP,FN, 0.1))\n",
    "\n",
    "# best threshold value\n",
    "t_best_naive = threshold_naive[np.argmax(f_beta_list_naive)]\n",
    "\n",
    "print(f\"t_best_naive = {t_best_naive:.4f}\")"
   ]
  },
  {
   "cell_type": "markdown",
   "metadata": {},
   "source": [
    "### Plots Naive Bayes"
   ]
  },
  {
   "cell_type": "code",
   "execution_count": 12,
   "metadata": {},
   "outputs": [],
   "source": [
    "\n",
    "fig, ax = plt.subplots()\n",
    "\n",
    "ax.plot(threshold_naive, accuracy_list_naive, label = \"Accuracy\")\n",
    "ax.plot(threshold_naive, precision_list_naive, label = \"Precision\")\n",
    "ax.plot(threshold_naive, recall_list_naive, label = \"Recall\")\n",
    "ax.plot(threshold_naive, f_beta_list_naive, linestyle=\"dotted\", label = r\"$f_{\\beta}$\")\n",
    "\n",
    "ax.set_xlabel(r\"Threshold $t$\")\n",
    "ax.legend()\n",
    "\n",
    "fig.savefig(\"content/plots/apr_naive.pdf\")\n",
    "plt.close()\n",
    "\n",
    "\n",
    "fig, ax = plt.subplots()\n",
    "\n",
    "ax.plot(threshold_naive, f_beta_list_naive, label = r\"$f_{\\beta}$\")\n",
    "ax.vlines(t_best_naive,0.82,0.9, linestyles=\"dashed\", colors=\"firebrick\", label = r\"$t_{\\mathrm{best}}$ = \" + f\"{t_best_naive:.4f}\")\n",
    "ax.set_xlabel(r\"Threshold $t$\")\n",
    "ax.legend()\n",
    "ax.set_ybound(0.87,0.9)\n",
    "ax.set_xbound(0.9,1.0)\n",
    "\n",
    "fig.savefig(\"content/plots/f_beta_naive.pdf\")\n",
    "plt.close()\n",
    "\n",
    "y_pred_naive = (y_pred_proba_naive[:,1] > t_best_naive)#.astype(int)\n",
    "c_mat_naive = confusion_matrix(label, y_pred_naive)\n",
    "ax = sn.heatmap(c_mat_naive, annot=True, fmt='g',cbar_kws={'label': 'Counts'})\n",
    "ax.set(xlabel=\"True label\", ylabel=\"Predicted label\")\n",
    "plt.tight_layout()\n",
    "plt.savefig(f'content/plots/confusion_naive.pdf')\n",
    "plt.close()\n",
    "# Compute ROC curve and ROC AUC score\n",
    "FP_naive, TP_naive, thresholds = roc_curve(label, y_pred_proba_naive[:, 1], pos_label=1)\n",
    "\n",
    "roc_auc_naive = roc_auc_score(label, y_pred_proba_naive[:, 1])\n",
    "\n"
   ]
  },
  {
   "cell_type": "markdown",
   "metadata": {},
   "source": [
    "### Random forest model"
   ]
  },
  {
   "cell_type": "code",
   "execution_count": 13,
   "metadata": {},
   "outputs": [
    {
     "name": "stdout",
     "output_type": "stream",
     "text": [
      "\n",
      "RandomForestClassifier Cross validation result:\n",
      "Accuracy: 0.9405+/-0.0029\n",
      "Precision: 0.9550+/-0.0015\n",
      "ROC: 0.9830+/-0.0015\n",
      "\n",
      "t_best_rdm = 0.8990\n"
     ]
    }
   ],
   "source": [
    "# Random Forest model\n",
    "features_used_rdm = 10\n",
    "X_rdm = df[features_class[:features_used_rdm]]\n",
    "kfold_rdm = KFold(n_splits=5, shuffle=True) ## kfolding with shuffling\n",
    "cv_result_rdm = cross_validate(RandomForestClassifier(), X_rdm, label, scoring=[\"accuracy\", \"precision\", \"roc_auc\"], cv = kfold_rdm, return_estimator=True)\n",
    "print(\"\")\n",
    "print(f\"RandomForestClassifier Cross validation result:\")\n",
    "print(f\"Accuracy: {ufloat(np.mean(cv_result_rdm['test_accuracy']),np.std(cv_result_rdm['test_accuracy']))}\")\n",
    "print(f\"Precision: {ufloat(np.mean(cv_result_rdm['test_precision']),np.std(cv_result_rdm['test_precision']))}\")\n",
    "#print(f\"Recall: {ufloat(np.mean(cv_result['test_recall']),np.std(cv_result['test_recall']))}\") #not provided in this function\n",
    "print(f\"ROC: {ufloat(np.mean(cv_result_rdm['test_roc_auc']),np.std(cv_result_rdm['test_roc_auc']))}\")\n",
    "print(\"\")\n",
    "\n",
    "# Use the first trained estimator from the cross-validation result\n",
    "trained_model_rdm = cv_result_rdm['estimator'][0]\n",
    "\n",
    "# Predict probabilities using the trained model\n",
    "y_pred_proba_rdm = trained_model_rdm.predict_proba(X_rdm) # (data, label)\n",
    "\n",
    "accuracy_list_rdm = []\n",
    "precision_list_rdm = [] \n",
    "recall_list_rdm = []\n",
    "f_beta_list_rdm = []\n",
    "\n",
    "threshold_rdm = np.linspace(0,1,100)\n",
    "for t in threshold_rdm:\n",
    "    y_pred_rdm = (y_pred_proba_rdm[:,1] > t)#.astype(int)\n",
    "    conf_mat_rdm = confusion_matrix(label, y_pred_rdm)\n",
    "    TP = conf_mat_rdm[1][1]\n",
    "    FP = conf_mat_rdm[0][1]\n",
    "    TN = conf_mat_rdm[0][0]\n",
    "    FN = conf_mat_rdm[1][0]\n",
    "    \n",
    "    accuracy_list_rdm.append(accuracy(TP,FP,TN,FN))\n",
    "    precision_list_rdm.append(precision(TP,FP))\n",
    "    recall_list_rdm.append(recall(TP,FN))\n",
    "    f_beta_list_rdm.append(f_beta(TP,FP,FN, 0.1))\n",
    "\n",
    "# best threshold value\n",
    "t_best_rdm = threshold_rdm[np.argmax(f_beta_list_rdm)]\n",
    "\n",
    "print(f\"t_best_rdm = {t_best_rdm:.4f}\")"
   ]
  },
  {
   "cell_type": "markdown",
   "metadata": {},
   "source": [
    "### Plots Random Forest"
   ]
  },
  {
   "cell_type": "code",
   "execution_count": 14,
   "metadata": {},
   "outputs": [],
   "source": [
    "fig, ax = plt.subplots()\n",
    "\n",
    "ax.plot(threshold_rdm, accuracy_list_rdm, label = \"Accuracy\")\n",
    "ax.plot(threshold_rdm, precision_list_rdm, label = \"Precision\")\n",
    "ax.plot(threshold_rdm, recall_list_rdm, label = \"Recall\")\n",
    "ax.plot(threshold_rdm, f_beta_list_rdm, linestyle=\"dotted\", label = r\"$f_{\\beta}$\")\n",
    "\n",
    "ax.set_xlabel(r\"Threshold $t$\")\n",
    "ax.legend()\n",
    "\n",
    "fig.savefig(\"content/plots/apr_rdm.pdf\")\n",
    "plt.close()\n",
    "\n",
    "\n",
    "fig, ax = plt.subplots()\n",
    "\n",
    "ax.plot(threshold_rdm, f_beta_list_rdm, label = r\"$f_{\\beta}$\")\n",
    "ax.vlines(t_best_rdm,0.99,1.0, linestyles=\"dashed\", colors=\"firebrick\", label = r\"$t_{\\mathrm{best}}$ = \" + f\"{t_best_rdm:.4f}\")\n",
    "ax.set_xlabel(r\"Threshold $t$\")\n",
    "ax.legend()\n",
    "ax.set_ybound(0.99,1.0)\n",
    "ax.set_xbound(0.8,0.9)\n",
    "\n",
    "fig.savefig(\"content/plots/f_beta_rdm.pdf\")\n",
    "plt.close()\n",
    "\n",
    "y_pred = (y_pred_proba_rdm[:,1] > t_best_rdm)\n",
    "c_mat_rdm = confusion_matrix(label, y_pred)\n",
    "ax = sn.heatmap(c_mat_rdm, annot=True, fmt='g',cbar_kws={'label': 'Counts'})\n",
    "ax.set(xlabel=\"True label\", ylabel=\"Predicted label\")\n",
    "plt.tight_layout()\n",
    "plt.savefig(f'content/plots/confusion_rdm.pdf')\n",
    "plt.close()\n",
    "# Compute ROC curve and ROC AUC score\n",
    "FP_rdm, TP_rdm, thresholds = roc_curve(label, y_pred_proba_rdm[:, 1], pos_label=1)\n",
    "\n",
    "roc_auc_rdm = roc_auc_score(label, y_pred_proba_rdm[:, 1])"
   ]
  },
  {
   "cell_type": "markdown",
   "metadata": {},
   "source": [
    "### kNN Model"
   ]
  },
  {
   "cell_type": "code",
   "execution_count": 15,
   "metadata": {},
   "outputs": [
    {
     "name": "stdout",
     "output_type": "stream",
     "text": [
      "\n",
      "kNN Cross validation result:\n",
      "Accuracy: 0.8821+/-0.0016\n",
      "Precision: 0.885+/-0.007\n",
      "ROC: 0.9400+/-0.0023\n",
      "\n",
      "t_best_kNN = 0.9394\n"
     ]
    }
   ],
   "source": [
    "# Naive Bayes model\n",
    "features_used_kNN = 10\n",
    "X_kNN = df[features_class[:features_used_kNN]]\n",
    "kfold_kNN = KFold(n_splits=5, shuffle=True) ## kfolding with shuffling\n",
    "cv_result_kNN = cross_validate(KNeighborsClassifier(n_neighbors=15), X_kNN, label, scoring=[\"accuracy\", \"precision\", \"roc_auc\"], cv = kfold_kNN, return_estimator=True)\n",
    "print(\"\")\n",
    "print(f\"kNN Cross validation result:\")\n",
    "print(f\"Accuracy: {ufloat(np.mean(cv_result_kNN['test_accuracy']),np.std(cv_result_kNN['test_accuracy']))}\")\n",
    "print(f\"Precision: {ufloat(np.mean(cv_result_kNN['test_precision']),np.std(cv_result_kNN['test_precision']))}\")\n",
    "#print(f\"Recall: {ufloat(np.mean(cv_result['test_recall']),np.std(cv_result['test_recall']))}\") #not provided in this function\n",
    "print(f\"ROC: {ufloat(np.mean(cv_result_kNN['test_roc_auc']),np.std(cv_result_kNN['test_roc_auc']))}\")\n",
    "print(\"\")\n",
    "\n",
    "# Use the first trained estimator from the cross-validation result\n",
    "trained_model_kNN = cv_result_kNN['estimator'][0]\n",
    "\n",
    "# Predict probabilities using the trained model\n",
    "y_pred_proba_kNN = trained_model_kNN.predict_proba(X_kNN) # (data, label)\n",
    "\n",
    "accuracy_list_kNN = []\n",
    "precision_list_kNN = [] \n",
    "recall_list_kNN = []\n",
    "f_beta_list_kNN = []\n",
    "\n",
    "threshold_kNN = np.linspace(0,1,100)\n",
    "for t in threshold_kNN:\n",
    "    y_pred_kNN = (y_pred_proba_kNN[:,1] > t)#.astype(int)\n",
    "    conf_mat_kNN = confusion_matrix(label, y_pred_kNN)\n",
    "    TP = conf_mat_kNN[1][1]\n",
    "    FP = conf_mat_kNN[0][1]\n",
    "    TN = conf_mat_kNN[0][0]\n",
    "    FN = conf_mat_kNN[1][0]\n",
    "    \n",
    "    accuracy_list_kNN.append(accuracy(TP,FP,TN,FN))\n",
    "    precision_list_kNN.append(precision(TP,FP))\n",
    "    recall_list_kNN.append(recall(TP,FN))\n",
    "    f_beta_list_kNN.append(f_beta(TP,FP,FN, 0.1))\n",
    "\n",
    "# best threshold value\n",
    "t_best_kNN = threshold_kNN[np.argmax(f_beta_list_kNN)]\n",
    "\n",
    "print(f\"t_best_kNN = {t_best_kNN:.4f}\")"
   ]
  },
  {
   "cell_type": "markdown",
   "metadata": {},
   "source": [
    "### Plots kNN"
   ]
  },
  {
   "cell_type": "code",
   "execution_count": 16,
   "metadata": {},
   "outputs": [],
   "source": [
    "fig, ax = plt.subplots()\n",
    "\n",
    "ax.plot(threshold_kNN, accuracy_list_kNN, label = \"Accuracy\")\n",
    "ax.plot(threshold_kNN, precision_list_kNN, label = \"Precision\")\n",
    "ax.plot(threshold_kNN, recall_list_kNN, label = \"Recall\")\n",
    "ax.plot(threshold_kNN, f_beta_list_kNN, linestyle=\"dotted\", label = r\"$f_{\\beta}$\")\n",
    "\n",
    "ax.set_xlabel(r\"Threshold $t$\")\n",
    "ax.legend()\n",
    "\n",
    "fig.savefig(\"content/plots/apr_kNN.pdf\")\n",
    "plt.close()\n",
    "\n",
    "\n",
    "fig, ax = plt.subplots()\n",
    "\n",
    "ax.plot(threshold_kNN, f_beta_list_kNN, label = r\"$f_{\\beta}$\")\n",
    "ax.vlines(t_best_kNN,0.9,1.0, linestyles=\"dashed\", colors=\"firebrick\", label = r\"$t_{\\mathrm{best}}$ = \" + f\"{t_best_kNN:.4f}\")\n",
    "ax.set_xlabel(r\"Threshold $t$\")\n",
    "ax.legend()\n",
    "ax.set_ybound(0.9,1.0)\n",
    "ax.set_xbound(0.8,1.0)\n",
    "\n",
    "fig.savefig(\"content/plots/f_beta_kNN.pdf\")\n",
    "plt.close()\n",
    "\n",
    "y_pred = (y_pred_proba_kNN[:,1] > t_best_kNN)\n",
    "c_mat_kNN = confusion_matrix(label, y_pred)\n",
    "ax = sn.heatmap(c_mat_kNN, annot=True, fmt='g',cbar_kws={'label': 'Counts'})\n",
    "ax.set(xlabel=\"True label\", ylabel=\"Predicted label\")\n",
    "plt.tight_layout()\n",
    "plt.savefig(f'content/plots/confusion_kNN.pdf')\n",
    "plt.close()\n",
    "# Compute ROC curve and ROC AUC score\n",
    "FP_kNN, TP_kNN, thresholds = roc_curve(label, y_pred_proba_kNN[:, 1], pos_label=1)\n",
    "\n",
    "roc_auc_kNN = roc_auc_score(label, y_pred_proba_kNN[:, 1])"
   ]
  },
  {
   "cell_type": "code",
   "execution_count": 17,
   "metadata": {},
   "outputs": [
    {
     "name": "stdout",
     "output_type": "stream",
     "text": [
      "ROC AUC score Naive Bayes: \t 0.9212\n",
      "ROC AUC score Random Forest: \t 0.9979\n",
      "ROC AUC score kNN: \t\t 0.9561\n"
     ]
    },
    {
     "data": {
      "image/png": "[encoded data removed]",
      "text/plain": [
       "<Figure size 640x480 with 1 Axes>"
      ]
     },
     "metadata": {},
     "output_type": "display_data"
    }
   ],
   "source": [
    "# Plot all ROCs together\n",
    "fig, ax = plt.subplots()\n",
    "ax.plot(FP_naive, TP_naive, label=\"Naive Bayes\")\n",
    "ax.plot(FP_rdm, TP_rdm, label = \"Random Forest\")\n",
    "ax.plot(FP_kNN, TP_kNN, label = \"kNN\")\n",
    "\n",
    "ax.legend()\n",
    "ax.set_xlabel(\"FP rate\")\n",
    "ax.set_ylabel(\"TP rate\")\n",
    "fig.savefig(\"content/plots/ROC_all.pdf\")\n",
    "#plt.close()\n",
    "\n",
    "\n",
    "print(f\"ROC AUC score Naive Bayes: \\t {roc_auc_naive:.4f}\")\n",
    "print(f\"ROC AUC score Random Forest: \\t {roc_auc_rdm:.4f}\")\n",
    "print(f\"ROC AUC score kNN: \\t\\t {roc_auc_kNN:.4f}\")"
   ]
  },
  {
   "cell_type": "markdown",
   "metadata": {},
   "source": [
    "## Apply Random Forest on provided test dataset"
   ]
  },
  {
   "cell_type": "code",
   "execution_count": 31,
   "metadata": {},
   "outputs": [
    {
     "name": "stdout",
     "output_type": "stream",
     "text": [
      "Number of predicted signals: 1633\n",
      "BG: 2367\n",
      "Total Data: 4000\n"
     ]
    },
    {
     "data": {
      "text/html": [
       "<div>\n",
       "<style scoped>\n",
       "    .dataframe tbody tr th:only-of-type {\n",
       "        vertical-align: middle;\n",
       "    }\n",
       "\n",
       "    .dataframe tbody tr th {\n",
       "        vertical-align: top;\n",
       "    }\n",
       "\n",
       "    .dataframe thead th {\n",
       "        text-align: right;\n",
       "    }\n",
       "</style>\n",
       "<table border=\"1\" class=\"dataframe\">\n",
       "  <thead>\n",
       "    <tr style=\"text-align: right;\">\n",
       "      <th></th>\n",
       "      <th>label</th>\n",
       "    </tr>\n",
       "  </thead>\n",
       "  <tbody>\n",
       "    <tr>\n",
       "      <th>0</th>\n",
       "      <td>True</td>\n",
       "    </tr>\n",
       "    <tr>\n",
       "      <th>1</th>\n",
       "      <td>False</td>\n",
       "    </tr>\n",
       "    <tr>\n",
       "      <th>2</th>\n",
       "      <td>False</td>\n",
       "    </tr>\n",
       "    <tr>\n",
       "      <th>3</th>\n",
       "      <td>False</td>\n",
       "    </tr>\n",
       "    <tr>\n",
       "      <th>4</th>\n",
       "      <td>False</td>\n",
       "    </tr>\n",
       "    <tr>\n",
       "      <th>...</th>\n",
       "      <td>...</td>\n",
       "    </tr>\n",
       "    <tr>\n",
       "      <th>3995</th>\n",
       "      <td>False</td>\n",
       "    </tr>\n",
       "    <tr>\n",
       "      <th>3996</th>\n",
       "      <td>False</td>\n",
       "    </tr>\n",
       "    <tr>\n",
       "      <th>3997</th>\n",
       "      <td>False</td>\n",
       "    </tr>\n",
       "    <tr>\n",
       "      <th>3998</th>\n",
       "      <td>False</td>\n",
       "    </tr>\n",
       "    <tr>\n",
       "      <th>3999</th>\n",
       "      <td>False</td>\n",
       "    </tr>\n",
       "  </tbody>\n",
       "</table>\n",
       "<p>4000 rows × 1 columns</p>\n",
       "</div>"
      ],
      "text/plain": [
       "      label\n",
       "0      True\n",
       "1     False\n",
       "2     False\n",
       "3     False\n",
       "4     False\n",
       "...     ...\n",
       "3995  False\n",
       "3996  False\n",
       "3997  False\n",
       "3998  False\n",
       "3999  False\n",
       "\n",
       "[4000 rows x 1 columns]"
      ]
     },
     "execution_count": 31,
     "metadata": {},
     "output_type": "execute_result"
    }
   ],
   "source": [
    "## Random forest performes the best so lets use it\n",
    "test = pd.read_csv('content/data/test.csv', sep=',')\n",
    "X_test = test[keys_new]\n",
    "X_test = X_test[features_class[:features_used_rdm]]\n",
    "# X.replace(to_replace=np.nan, value=0, inplace=True) # stoopid nan\n",
    "y_pred_proba = trained_model_rdm.predict_proba(X_test)\n",
    "label_pred = y_pred_proba[:,1] > t_best_rdm\n",
    "print(f\"Number of predicted signals: {np.sum(label_pred)}\")\n",
    "print(f\"BG: {len(label_pred)-np.sum(label_pred)}\")\n",
    "print(f\"Total Data: {len(label_pred)}\")\n",
    "\n",
    "classification_test = pd.DataFrame(label_pred, columns=[\"label\"])\n",
    "classification_test.to_csv(\"build/classification_test.csv\")\n",
    "classification_test"
   ]
  },
  {
   "cell_type": "code",
   "execution_count": null,
   "metadata": {},
   "outputs": [],
   "source": []
  }
 ],
 "metadata": {
  "kernelspec": {
   "display_name": "Python 3",
   "language": "python",
   "name": "python3"
  },
  "language_info": {
   "codemirror_mode": {
    "name": "ipython",
    "version": 3
   },
   "file_extension": ".py",
   "mimetype": "text/x-python",
   "name": "python",
   "nbconvert_exporter": "python",
   "pygments_lexer": "ipython3",
   "version": "3.12.3"
  }
 },
 "nbformat": 4,
 "nbformat_minor": 2
}
